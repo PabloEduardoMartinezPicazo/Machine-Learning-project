{
 "metadata": {
  "language_info": {
   "codemirror_mode": {
    "name": "ipython",
    "version": 3
   },
   "file_extension": ".py",
   "mimetype": "text/x-python",
   "name": "python",
   "nbconvert_exporter": "python",
   "pygments_lexer": "ipython3",
   "version": 3
  },
  "orig_nbformat": 2
 },
 "nbformat": 4,
 "nbformat_minor": 2,
 "cells": [
  {
   "cell_type": "markdown",
   "source": [
    "# Modelo de deep-learning para la predicción de diferentes lesiones que se producen en el tracto digestivo"
   ],
   "metadata": {}
  },
  {
   "cell_type": "markdown",
   "source": [
    "### Los datos fueron extraídos de Kvasir."
   ],
   "metadata": {}
  },
  {
   "cell_type": "markdown",
   "source": [
    "### Se estudiaron e incluyeron 5 diferentes patologías del intestino bastante comunes que derivan en afectaciones más graves como pueden ser enfermedades crónicas o tumores malignos. Así mismo se inlcuyeron imágenes de intestinos sanos.\r\n",
    "### El conjunto de datos esta formado por casi 9000 imagenes.\r\n",
    "### Se usaron 4 modelos de los cuales el modelo preentrenado VGG16 resultó ser el que tenía una mayor precisión con casi un 97% de aciertos y sin overfitting.\r\n",
    "\r\n"
   ],
   "metadata": {}
  }
 ]
}