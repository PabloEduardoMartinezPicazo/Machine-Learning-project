{
 "cells": [
  {
   "cell_type": "code",
   "execution_count": 1,
   "source": [
    "import os,sys\r\n",
    "import pymysql\r\n",
    "dir = os.path.dirname\r\n",
    "path = dir(os.getcwd())\r\n",
    "sys.path.append(path)\r\n",
    "import SRC.utils_.models as md\r\n",
    "import SRC.utils_.mining_data_tb as m\r\n",
    "from notebooks.sql_ import df_sql\r\n",
    "import SRC.utils_.sql_tb as sql\r\n",
    "from sqlalchemy.engine import create_engine\r\n",
    "import SRC.utils_.mining_data_tb as mn"
   ],
   "outputs": [
    {
     "output_type": "stream",
     "name": "stdout",
     "text": [
      "c:\\Users\\Administrator\\Desktop\\TheBridge\\Bootcamp-DataScience-2021\\MachineLearning\n",
      "c:\\Users\\Administrator\\Desktop\\TheBridge\\Bootcamp-DataScience-2021\\MachineLearning\n",
      "c:\\Users\\Administrator\\Desktop\\TheBridge\\Bootcamp-DataScience-2021\\MachineLearning\n",
      "c:\\Users\\Administrator\\Desktop\\TheBridge\\Bootcamp-DataScience-2021\\MachineLearning\n",
      "                                              Lesiones             tipos  \\\n",
      "0    [[[0, 0, 0], [0, 0, 0], [0, 0, 0], [0, 0, 0], ...  Lymphangiectasia   \n",
      "1    [[[0, 0, 0], [0, 0, 0], [0, 0, 0], [0, 0, 0], ...  Lymphangiectasia   \n",
      "2    [[[0, 0, 0], [0, 0, 0], [0, 0, 0], [0, 0, 0], ...  Lymphangiectasia   \n",
      "3    [[[0, 0, 0], [0, 0, 0], [0, 0, 0], [0, 0, 0], ...  Lymphangiectasia   \n",
      "4    [[[0, 0, 0], [0, 0, 0], [0, 0, 0], [0, 0, 0], ...  Lymphangiectasia   \n",
      "..                                                 ...               ...   \n",
      "587  [[[0, 0, 0], [0, 0, 0], [0, 0, 0], [0, 0, 0], ...  Lymphangiectasia   \n",
      "588  [[[0, 0, 0], [0, 0, 0], [0, 0, 0], [0, 0, 0], ...  Lymphangiectasia   \n",
      "589  [[[0, 0, 0], [0, 0, 0], [0, 0, 0], [0, 0, 0], ...  Lymphangiectasia   \n",
      "590  [[[0, 0, 0], [0, 0, 0], [0, 0, 0], [0, 0, 0], ...  Lymphangiectasia   \n",
      "591  [[[0, 0, 0], [0, 0, 0], [0, 0, 0], [0, 0, 0], ...  Lymphangiectasia   \n",
      "\n",
      "                                              Fullpath  \n",
      "0    c:\\Users\\Administrator\\Desktop\\TheBridge\\Bootc...  \n",
      "1    c:\\Users\\Administrator\\Desktop\\TheBridge\\Bootc...  \n",
      "2    c:\\Users\\Administrator\\Desktop\\TheBridge\\Bootc...  \n",
      "3    c:\\Users\\Administrator\\Desktop\\TheBridge\\Bootc...  \n",
      "4    c:\\Users\\Administrator\\Desktop\\TheBridge\\Bootc...  \n",
      "..                                                 ...  \n",
      "587  c:\\Users\\Administrator\\Desktop\\TheBridge\\Bootc...  \n",
      "588  c:\\Users\\Administrator\\Desktop\\TheBridge\\Bootc...  \n",
      "589  c:\\Users\\Administrator\\Desktop\\TheBridge\\Bootc...  \n",
      "590  c:\\Users\\Administrator\\Desktop\\TheBridge\\Bootc...  \n",
      "591  c:\\Users\\Administrator\\Desktop\\TheBridge\\Bootc...  \n",
      "\n",
      "[592 rows x 3 columns]\n",
      "c:\\Users\\Administrator\\Desktop\\TheBridge\\Bootcamp-DataScience-2021\\MachineLearning\n",
      "c:\\Users\\Administrator\\Desktop\\TheBridge\\Bootcamp-DataScience-2021\\MachineLearning\n"
     ]
    }
   ],
   "metadata": {}
  },
  {
   "cell_type": "code",
   "execution_count": 4,
   "source": [
    "json_readed = sql.read_json_to_dict(path + os.sep + \"SRC\" + os.sep + \"utils_\" + os.sep + \"bd_info.json\")"
   ],
   "outputs": [],
   "metadata": {}
  },
  {
   "cell_type": "code",
   "execution_count": 6,
   "source": [
    "sql.upload_sql(df_sql,json_readed)"
   ],
   "outputs": [],
   "metadata": {}
  },
  {
   "cell_type": "code",
   "execution_count": 6,
   "source": [
    "mn.limpio_csv(df_sql,\"SQL_limpio\")\r\n",
    "    \r\n"
   ],
   "outputs": [],
   "metadata": {}
  }
 ],
 "metadata": {
  "language_info": {
   "name": "python",
   "nbconvert_exporter": "python"
  },
  "orig_nbformat": 4
 },
 "nbformat": 4,
 "nbformat_minor": 2
}